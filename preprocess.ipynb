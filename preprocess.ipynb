{
 "cells": [
  {
   "cell_type": "code",
   "execution_count": 15,
   "metadata": {},
   "outputs": [],
   "source": [
    "from PIL import Image\n",
    "import matplotlib.pyplot as plt\n",
    "import numpy as np\n",
    "import pandas as pd\n",
    "import os\n",
    "import tqdm\n",
    "from numpy.random import RandomState"
   ]
  },
  {
   "cell_type": "code",
   "execution_count": 16,
   "metadata": {},
   "outputs": [
    {
     "data": {
      "text/plain": [
       "'c:\\\\Users\\\\filbe\\\\Desktop\\\\4342\\\\Project'"
      ]
     },
     "execution_count": 16,
     "metadata": {},
     "output_type": "execute_result"
    }
   ],
   "source": [
    "dir_path = os.getcwd()\n",
    "dir_path"
   ]
  },
  {
   "cell_type": "code",
   "execution_count": 17,
   "metadata": {},
   "outputs": [],
   "source": [
    "def process_image(path, crop_size):\n",
    "    image = Image.open(path)\n",
    "    image = image.convert(\"L\")\n",
    "\n",
    "    image = image.crop(\n",
    "        (crop_size, crop_size, image.size[0] - crop_size, image.size[1] - crop_size)\n",
    "    )\n",
    "\n",
    "    image = image.resize((28, 28))\n",
    "    return image"
   ]
  },
  {
   "cell_type": "code",
   "execution_count": 18,
   "metadata": {},
   "outputs": [
    {
     "data": {
      "text/plain": [
       "<matplotlib.image.AxesImage at 0x2747e4da5c0>"
      ]
     },
     "execution_count": 18,
     "metadata": {},
     "output_type": "execute_result"
    },
    {
     "data": {
      "image/png": "[encoded data removed]",
      "text/plain": [
       "<Figure size 640x480 with 1 Axes>"
      ]
     },
     "metadata": {},
     "output_type": "display_data"
    }
   ],
   "source": [
    "image = process_image(os.path.join(dir_path, \"mnist-sign-language/B/B1.jpg\"), 10)\n",
    "\n",
    "plt.show(image)\n",
    "plt.imshow(image, cmap=\"gray\")"
   ]
  },
  {
   "cell_type": "code",
   "execution_count": 19,
   "metadata": {},
   "outputs": [],
   "source": [
    "def image_to_dataframe(image, label):\n",
    "    data = np.array(image)\n",
    "    data = data.flatten()\n",
    "    \n",
    "    df = pd.DataFrame([label, *data]).transpose()\n",
    "\n",
    "    return df"
   ]
  },
  {
   "cell_type": "code",
   "execution_count": null,
   "metadata": {},
   "outputs": [],
   "source": []
  },
  {
   "cell_type": "code",
   "execution_count": 20,
   "metadata": {},
   "outputs": [
    {
     "name": "stderr",
     "output_type": "stream",
     "text": [
      "100%|██████████| 3000/3000 [00:26<00:00, 113.57it/s]\n",
      "100%|██████████| 3000/3000 [00:26<00:00, 115.31it/s]\n",
      "100%|██████████| 3000/3000 [00:28<00:00, 106.77it/s]\n"
     ]
    }
   ],
   "source": [
    "dirpath = os.getcwd()\n",
    "\n",
    "for filename in tqdm.tqdm(os.listdir(os.path.join(dir_path, \"mnist-sign-language/A\"))):\n",
    "    if filename.endswith(\".jpg\") and filename.startswith(\"A\"):\n",
    "        image = process_image(os.path.join(\"mnist-sign-language/A\", filename), 4)\n",
    "        df = image_to_dataframe(image, 0)\n",
    "        df.to_csv(\"a.csv\", mode=\"a\", header=False, index=False)\n",
    "for filename in tqdm.tqdm(os.listdir(os.path.join(dir_path, \"mnist-sign-language/B\"))):\n",
    "    if filename.endswith(\".jpg\") and filename.startswith(\"B\"):\n",
    "        image = process_image(os.path.join(\"mnist-sign-language/B\", filename), 4)\n",
    "        df = image_to_dataframe(image, 1)\n",
    "        df.to_csv(\"b.csv\", mode=\"a\", header=False, index=False)\n",
    "for filename in tqdm.tqdm(os.listdir(os.path.join(dir_path, \"mnist-sign-language/C\"))):\n",
    "    if filename.endswith(\".jpg\") and filename.startswith(\"C\"):\n",
    "        image = process_image(os.path.join(\"mnist-sign-language/C\", filename), 4)\n",
    "        df = image_to_dataframe(image, 2)\n",
    "        df.to_csv(\"c.csv\", mode=\"a\", header=False, index=False)"
   ]
  },
  {
   "cell_type": "code",
   "execution_count": 22,
   "metadata": {},
   "outputs": [
    {
     "name": "stderr",
     "output_type": "stream",
     "text": [
      "  0%|          | 0/16 [00:00<?, ?it/s]"
     ]
    },
    {
     "name": "stderr",
     "output_type": "stream",
     "text": [
      "100%|██████████| 16/16 [00:05<00:00,  3.13it/s]\n"
     ]
    }
   ],
   "source": [
    "header = ['label'] + [f'pixel{i+1}' for i in range(784)]\n",
    "header = pd.DataFrame([header])\n",
    "header.to_csv(\"train.csv\", mode=\"a\", header=False, index=False)\n",
    "header.to_csv(\"test.csv\", mode=\"a\", header=False, index=False)\n",
    "\n",
    "for filename in tqdm.tqdm(os.listdir()):\n",
    "    if filename.endswith(\".csv\"):\n",
    "        df = pd.read_csv(filename)\n",
    "        rng = RandomState()\n",
    "\n",
    "        train = df.sample(frac=0.7, random_state=rng)\n",
    "        test = df.loc[~df.index.isin(train.index)]\n",
    "\n",
    "        train.to_csv(\"train.csv\", mode=\"a\", header=False, index=False)\n",
    "        test.to_csv(\"test.csv\", mode=\"a\", header=False, index=False)"
   ]
  }
 ],
 "metadata": {
  "kernelspec": {
   "display_name": "Python 3",
   "language": "python",
   "name": "python3"
  },
  "language_info": {
   "codemirror_mode": {
    "name": "ipython",
    "version": 3
   },
   "file_extension": ".py",
   "mimetype": "text/x-python",
   "name": "python",
   "nbconvert_exporter": "python",
   "pygments_lexer": "ipython3",
   "version": "3.10.11"
  }
 },
 "nbformat": 4,
 "nbformat_minor": 2
}
