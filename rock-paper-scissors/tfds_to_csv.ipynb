{
 "cells": [
  {
   "cell_type": "code",
   "execution_count": 1,
   "metadata": {},
   "source": [
    "import tensorflow as tf\n",
    "import tensorflow_datasets as tfds\n",
    "import numpy as np\n",
    "import matplotlib.pyplot as plt\n",
    "import cv2\n",
    "import os"
   ],
   "outputs": []
  },
  {
   "cell_type": "code",
   "execution_count": 2,
   "metadata": {},
   "source": [
    "(dataset_train_raw, dataset_test_raw), dataset_info = tfds.load(\n",
    "    name=\"rock_paper_scissors\",\n",
    "    data_dir=\"rock-paper-scissors\",\n",
    "    with_info=True,\n",
    "    as_supervised=True,\n",
    "    split=[tfds.Split.TRAIN, tfds.Split.TEST],\n",
    ")"
   ],
   "outputs": []
  },
  {
   "cell_type": "code",
   "execution_count": 3,
   "metadata": {},
   "source": [
    "def preprocess(image):\n",
    "    image = cv2.cvtColor(image, cv2.COLOR_BGR2GRAY)\n",
    "    image = cv2.resize(image, (28, 28))\n",
    "    image = np.asanyarray(image)\n",
    "    image = image.reshape(1, 28, 28)\n",
    "    return image"
   ],
   "outputs": []
  },
  {
   "cell_type": "code",
   "execution_count": 4,
   "metadata": {},
   "source": [
    "classes = [\"Rock\", \"Paper\", \"Scissors\", \"Empty\"]\n",
    "test_data = []\n",
    "train_data = []\n",
    "\n",
    "min_len_test = 124\n",
    "min_len_train = 840\n",
    "\n",
    "for image, label in tfds.as_numpy(dataset_test_raw):\n",
    "    test_data.append((label, preprocess(image)))\n",
    "\n",
    "for image, label in tfds.as_numpy(dataset_train_raw):\n",
    "    train_data.append((label, preprocess(image)))\n",
    "\n",
    "empty_image = np.full((1, 28, 28), 255)\n",
    "for i in range(min_len_test):\n",
    "    test_data.append((3, empty_image))\n",
    "for i in range(min_len_train):\n",
    "    train_data.append((3, empty_image))"
   ],
   "outputs": []
  },
  {
   "cell_type": "code",
   "execution_count": 5,
   "metadata": {},
   "source": [
    "plt.figure(figsize=(12, 12))\n",
    "plot_index = 0\n",
    "\n",
    "for i in range(9):\n",
    "    plot_index += 1\n",
    "    plt.subplot(3, 3, plot_index)\n",
    "    plt.imshow(test_data[i][1][0], cmap=\"gray\")\n",
    "    plt.title(classes[train_data[i][0]])\n",
    "    plt.axis(\"off\")"
   ],
   "outputs": []
  },
  {
   "cell_type": "code",
   "execution_count": 6,
   "metadata": {},
   "source": [
    "with open(\"rock_paper_scissors_test.csv\", \"w\") as f:\n",
    "    f.write(\"label,\" + \",\".join([f\"pixel{i + 1}\" for i in range(28*28)]) + \"\\n\")\n",
    "    for label, image in test_data:\n",
    "        f.write(f\"{label},{','.join(map(str, image.flatten()))}\\n\")\n",
    "\n",
    "with open(\"rock_paper_scissors_train.csv\", \"w\") as f:\n",
    "    f.write(\"label,\" + \",\".join([f\"pixel{i+1}\" for i in range(28*28)]) + \"\\n\")\n",
    "    for label, image in train_data:\n",
    "        f.write(f\"{label},{','.join(map(str, image.flatten()))}\\n\")"
   ],
   "outputs": []
  }
 ],
 "metadata": {
  "kernelspec": {
   "display_name": "Python 3",
   "language": "python",
   "name": "python3"
  },
  "language_info": {
   "codemirror_mode": {
    "name": "ipython",
    "version": 3
   },
   "file_extension": ".py",
   "mimetype": "text/x-python",
   "name": "python",
   "nbconvert_exporter": "python",
   "pygments_lexer": "ipython3",
   "version": "3.10.11"
  }
 },
 "nbformat": 4,
 "nbformat_minor": 2
}
