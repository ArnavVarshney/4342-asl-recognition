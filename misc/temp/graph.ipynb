{
 "cells": [
  {
   "cell_type": "code",
   "execution_count": 27,
   "metadata": {},
   "source": [
    "import matplotlib.pyplot as plt\n",
    "from matplotlib.animation import ArtistAnimation\n"
   ],
   "outputs": []
  },
  {
   "cell_type": "code",
   "execution_count": 35,
   "metadata": {},
   "source": [
    "cnn_train_loss = []\n",
    "cnn_val_loss = []\n",
    "cnn_train_acc = []\n",
    "cnn_val_acc = []\n",
    "\n",
    "cnn_quant_train_loss = []\n",
    "cnn_quant_val_loss = []\n",
    "cnn_quant_train_acc = []\n",
    "cnn_quant_val_acc = []\n",
    "\n",
    "with open(\"CNN.txt\", \"r\") as f:\n",
    "    f = f.readlines()\n",
    "    cnn_train_loss = list(map(float, f[0][1:-2].split(\",\")))\n",
    "    cnn_train_acc = list(map(float, f[1][1:-2].split(\",\")))\n",
    "    cnn_val_loss = list(map(float, f[2][1:-2].split(\",\")))\n",
    "    cnn_val_acc = list(map(float, f[3][1:-2].split(\",\")))\n",
    "\n",
    "with open(\"CNN_Quantized.txt\", \"r\") as f:\n",
    "    f = f.readlines()\n",
    "    cnn_quant_train_loss = list(map(float, f[0][1:-2].split(\",\")))\n",
    "    cnn_quant_train_acc = list(map(float, f[1][1:-2].split(\",\")))\n",
    "    cnn_quant_val_loss = list(map(float, f[2][1:-2].split(\",\")))\n",
    "    cnn_quant_val_acc = list(map(float, f[3][1:-2].split(\",\")))"
   ],
   "outputs": []
  },
  {
   "cell_type": "code",
   "execution_count": 29,
   "metadata": {},
   "source": [
    "color_codes = ['#1f1f1fff', '#dcdcaa', '#9cdcfe', '#ce9178', '#569cd6']"
   ],
   "outputs": []
  },
  {
   "cell_type": "code",
   "execution_count": 43,
   "metadata": {},
   "source": [
    "fig, (ax1, ax2) = plt.subplots(1, 2)\n",
    "\n",
    "plt.style.use('dark_background')\n",
    "plt.rcParams[\"font.family\"] = 'Consolas'\n",
    "\n",
    "ax1.plot(cnn_train_loss, color=color_codes[1])\n",
    "ax1.plot(cnn_val_loss, color=color_codes[2])\n",
    "ax1.set(xlabel='Epoch', ylabel='Loss')\n",
    "plt.legend(['Loss'], loc='upper right', frameon=False)\n",
    "plt.yticks([0, 0.1, 0.2, 0.3, 0.4, 0.5, 0.6, 0.7])\n",
    "\n",
    "ax2.plot(cnn_train_acc, color=color_codes[1])\n",
    "ax2.plot(cnn_val_acc, color=color_codes[2])\n",
    "ax2.set(xlabel='Epoch', ylabel='Accuracy')\n",
    "plt.yticks(range(80, 102, 2))\n",
    "plt.legend(['Train', \"Validation\"], frameon=False)\n",
    "\n",
    "ax1.set_box_aspect(1)\n",
    "ax2.set_box_aspect(1)\n",
    "\n",
    "fig.tight_layout()\n",
    "plt.show()\n",
    "fig.savefig('cnn_loss.png', transparent=True)"
   ],
   "outputs": []
  },
  {
   "cell_type": "code",
   "execution_count": 44,
   "metadata": {},
   "source": [
    "fig, (ax1, ax2) = plt.subplots(1, 2)\n",
    "\n",
    "plt.style.use('dark_background')\n",
    "plt.rcParams[\"font.family\"] = 'Consolas'\n",
    "\n",
    "ax1.plot(cnn_train_loss, color=color_codes[1])\n",
    "ax1.plot(cnn_quant_train_loss, color=color_codes[2])\n",
    "ax1.set(xlabel='Epoch', ylabel='Loss')\n",
    "plt.legend(['Loss'], loc='upper right', frameon=False)\n",
    "\n",
    "ax2.plot(cnn_val_acc, color=color_codes[1])\n",
    "ax2.plot(cnn_quant_val_acc, color=color_codes[2])\n",
    "ax2.set(xlabel='Epoch', ylabel='Accuracy')\n",
    "plt.legend(['Original', \"Optimised\"], frameon=False)\n",
    "\n",
    "ax1.set_box_aspect(1)\n",
    "ax2.set_box_aspect(1)\n",
    "\n",
    "fig.tight_layout()\n",
    "plt.show()\n",
    "fig.savefig('cnn_quant_loss.png', transparent=True)"
   ],
   "outputs": []
  }
 ],
 "metadata": {
  "kernelspec": {
   "display_name": "Python 3",
   "language": "python",
   "name": "python3"
  },
  "language_info": {
   "codemirror_mode": {
    "name": "ipython",
    "version": 3
   },
   "file_extension": ".py",
   "mimetype": "text/x-python",
   "name": "python",
   "nbconvert_exporter": "python",
   "pygments_lexer": "ipython3",
   "version": "3.10.11"
  }
 },
 "nbformat": 4,
 "nbformat_minor": 2
}
