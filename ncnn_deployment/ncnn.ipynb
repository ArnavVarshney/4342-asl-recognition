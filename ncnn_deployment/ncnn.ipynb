{
 "cells": [
  {
   "cell_type": "code",
   "execution_count": 88,
   "metadata": {},
   "outputs": [],
   "source": [
    "import ncnn\n",
    "import torch\n",
    "import torch.nn as nn\n",
    "import torch.nn.functional as F\n",
    "from torchsummary import summary\n",
    "import torch.onnx\n",
    "import torchvision\n",
    "import os\n",
    "from torch.utils.data import Dataset\n",
    "from torchvision.transforms import v2 as T\n",
    "import pandas as pd"
   ]
  },
  {
   "cell_type": "code",
   "execution_count": null,
   "metadata": {},
   "outputs": [],
   "source": [
    "#Global vars\n",
    "batch_size = 128\n",
    "num_classes = 26\n",
    "epochs = 10\n",
    "device = torch.device(\"cuda\" if torch.cuda.is_available() else \"cpu\")\n",
    "\n",
    "dir = \"../ncnn_out\"\n",
    "if not os.path.exists(dir):\n",
    "        os.makedirs(dir)"
   ]
  },
  {
   "cell_type": "code",
   "execution_count": null,
   "metadata": {},
   "outputs": [],
   "source": [
    "class CNN(nn.Module):\n",
    "    def __init__(self, in_channels=1, out_features=num_classes):\n",
    "        super(CNN, self).__init__()\n",
    "        self.criterion = nn.CrossEntropyLoss()\n",
    "\n",
    "        self.conv1 = nn.Sequential(\n",
    "            nn.Conv2d(in_channels, 16, kernel_size=3, stride=1, padding=1),\n",
    "            nn.BatchNorm2d(16),\n",
    "            nn.LeakyReLU(inplace=True)\n",
    "        )\n",
    "\n",
    "        self.conv2 = nn.Sequential(\n",
    "            nn.Conv2d(16, 32, kernel_size=3, stride=1, padding=1),\n",
    "            nn.BatchNorm2d(32),\n",
    "            nn.LeakyReLU(inplace=True),\n",
    "            nn.MaxPool2d(2),\n",
    "        )\n",
    "\n",
    "        self.conv3 = nn.Sequential(\n",
    "            nn.Conv2d(32, 64, kernel_size=3, stride=1, padding=1),\n",
    "            nn.BatchNorm2d(64),\n",
    "            nn.LeakyReLU(inplace=True),\n",
    "            nn.MaxPool2d(2),\n",
    "        )\n",
    "\n",
    "        self.fc = nn.Sequential(\n",
    "            nn.Flatten(),\n",
    "            nn.Linear(64 * 7 * 7, out_features)\n",
    "        )\n",
    "\n",
    "    def forward(self, img):\n",
    "        img = self.conv1(img)\n",
    "        img = self.conv2(img)\n",
    "        img = self.conv3(img)\n",
    "        img = self.fc(img)\n",
    "        return img\n",
    "\n",
    "    def loss(self, x, label):\n",
    "        loss = self.criterion(x, label)\n",
    "        return loss\n",
    "    \n",
    "\n",
    "class GestureDataset(Dataset):\n",
    "    def __init__(self, csv_file):\n",
    "        self.data = pd.read_csv(csv_file)\n",
    "        self.classes = self.data['label']\n",
    "\n",
    "        self.img = self.data.drop('label', axis=1)\n",
    "        self.img = self.img / 255.0\n",
    "        self.img = self.img.values.reshape(-1, 28, 28, 1)\n",
    "\n",
    "        self.transform = T.Compose([T.ToPILImage(), T.RandomRotation(10),\n",
    "                                    T.ColorJitter(brightness=(0.5, 1.5), contrast=(0.5, 1.5), saturation=(0.5, 1.5)),\n",
    "                                    T.RandomResizedCrop(28, scale=(1.0, 2)), T.ToImage(),\n",
    "                                    T.ToDtype(torch.float32, scale=True)])\n",
    "\n",
    "    def __len__(self):\n",
    "        return len(self.img)\n",
    "\n",
    "    def __getitem__(self, index):\n",
    "        label = self.classes[index]\n",
    "        img = self.img[index]\n",
    "        img = self.transform(img)\n",
    "\n",
    "        label = torch.LongTensor([label])\n",
    "        img = img.float()\n",
    "\n",
    "        return img, label\n",
    "\n",
    "def dataset(train_path, test_path, batch_size=128):\n",
    "    train_dataset = GestureDataset(train_path)\n",
    "    test_dataset = GestureDataset(test_path)\n",
    "\n",
    "    train_loader = torch.utils.data.DataLoader(train_dataset, batch_size=batch_size, shuffle=True)\n",
    "    test_loader = torch.utils.data.DataLoader(test_dataset, batch_size=batch_size, shuffle=True)\n",
    "\n",
    "    return train_loader, test_loader\n",
    "\n",
    "train_loader, test_loader = dataset('../mnist-sign-language/train/sign_mnist_train.csv', \n",
    "                                                     '../mnist-sign-language/test/sign_mnist_test.csv', \n",
    "                                                    128)"
   ]
  },
  {
   "cell_type": "code",
   "execution_count": null,
   "metadata": {},
   "outputs": [],
   "source": [
    "#Converting to NCNN type\n",
    "#Source: https://github.com/Tencent/ncnn/wiki/use-ncnn-with-pytorch-or-onnx\n",
    "weights = torch.load(\"../weights/asl.pth\")\n",
    "model = CNN()\n",
    "model.load_state_dict(weights)\n",
    "model.eval()\n",
    "\n",
    "torch_out = torch.onnx._export(model, torch.rand(128, 1, 28, 28), dir+\"/resnet18.onnx\", export_params=True) # Export the model\n",
    "!python3 -m onnxsim {dir+\"/resnet18.onnx\"} {dir+\"/resnet18-sim.onnx\"}\n",
    "!onnx2ncnn {dir+\"/resnet18-sim.onnx\"} {dir+\"/resnet18.param\"} {dir+\"/resnet18.bin\"}"
   ]
  },
  {
   "cell_type": "code",
   "execution_count": 87,
   "metadata": {},
   "outputs": [
    {
     "ename": "AttributeError",
     "evalue": "type object 'ncnn.ncnn.Mat' has no attribute 'PIXEL_RGB'",
     "output_type": "error",
     "traceback": [
      "\u001b[0;31m---------------------------------------------------------------------------\u001b[0m",
      "\u001b[0;31mAttributeError\u001b[0m                            Traceback (most recent call last)",
      "Cell \u001b[0;32mIn[87], line 8\u001b[0m\n\u001b[1;32m      5\u001b[0m imgs, vals \u001b[38;5;241m=\u001b[39m \u001b[38;5;28mnext\u001b[39m(\u001b[38;5;28miter\u001b[39m(test_loader))\n\u001b[1;32m      6\u001b[0m img \u001b[38;5;241m=\u001b[39m imgs[\u001b[38;5;241m0\u001b[39m]\n\u001b[0;32m----> 8\u001b[0m ncnn\u001b[38;5;241m.\u001b[39mMat\u001b[38;5;241m.\u001b[39mfrom_pixels(img, \u001b[43mncnn\u001b[49m\u001b[38;5;241;43m.\u001b[39;49m\u001b[43mMat\u001b[49m\u001b[38;5;241;43m.\u001b[39;49m\u001b[43mPIXEL_RGB\u001b[49m,\u001b[38;5;241m28\u001b[39m,\u001b[38;5;241m28\u001b[39m)\n\u001b[1;32m     10\u001b[0m ex \u001b[38;5;241m=\u001b[39m ncnn_model\u001b[38;5;241m.\u001b[39mcreate_extractor()\n\u001b[1;32m     11\u001b[0m ex\u001b[38;5;241m.\u001b[39minput(\u001b[38;5;124m\"\u001b[39m\u001b[38;5;124min\u001b[39m\u001b[38;5;124m\"\u001b[39m,img)\n",
      "\u001b[0;31mAttributeError\u001b[0m: type object 'ncnn.ncnn.Mat' has no attribute 'PIXEL_RGB'"
     ]
    }
   ],
   "source": [
    "ncnn_model = ncnn.Net()\n",
    "ncnn_model.load_param(dir+\"/resnet18.param\")\n",
    "ncnn_model.load_model(dir+\"/resnet18.bin\")\n",
    "\n",
    "imgs, vals = next(iter(test_loader))\n",
    "img = imgs[0]\n",
    "\n",
    "ncnn.Mat.from_pixels(img, ncnn.Mat.PIXEL_RGB,28,28)\n",
    "\n",
    "ex = ncnn_model.create_extractor()\n",
    "ex.input(\"in\",img)\n"
   ]
  },
  {
   "cell_type": "code",
   "execution_count": 92,
   "metadata": {},
   "outputs": [
    {
     "ename": "AttributeError",
     "evalue": "module 'ncnn' has no attribute 'PIXEL_RGB'",
     "output_type": "error",
     "traceback": [
      "\u001b[0;31m---------------------------------------------------------------------------\u001b[0m",
      "\u001b[0;31mAttributeError\u001b[0m                            Traceback (most recent call last)",
      "Cell \u001b[0;32mIn[92], line 2\u001b[0m\n\u001b[1;32m      1\u001b[0m test \u001b[38;5;241m=\u001b[39m ncnn\u001b[38;5;241m.\u001b[39mMat()\n\u001b[0;32m----> 2\u001b[0m \u001b[43mncnn\u001b[49m\u001b[38;5;241;43m.\u001b[39;49m\u001b[43mPIXEL_RGB\u001b[49m\n",
      "\u001b[0;31mAttributeError\u001b[0m: module 'ncnn' has no attribute 'PIXEL_RGB'"
     ]
    }
   ],
   "source": [
    "test = ncnn.Mat()"
   ]
  }
 ],
 "metadata": {
  "kernelspec": {
   "display_name": "Python 3",
   "language": "python",
   "name": "python3"
  },
  "language_info": {
   "codemirror_mode": {
    "name": "ipython",
    "version": 3
   },
   "file_extension": ".py",
   "mimetype": "text/x-python",
   "name": "python",
   "nbconvert_exporter": "python",
   "pygments_lexer": "ipython3",
   "version": "3.12.3"
  }
 },
 "nbformat": 4,
 "nbformat_minor": 2
}
