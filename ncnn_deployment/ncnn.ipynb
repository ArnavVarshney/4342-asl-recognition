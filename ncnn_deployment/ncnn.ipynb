{
 "cells": [
  {
   "cell_type": "code",
   "execution_count": 1,
   "metadata": {},
   "outputs": [],
   "source": [
    "# import ncnn\n",
    "import torch\n",
    "import torch.nn as nn\n",
    "import torch.nn.functional as F\n",
    "# from torchsummary import summary\n",
    "import torch.onnx\n",
    "import torchvision\n",
    "import os\n",
    "from torch.utils.data import Dataset\n",
    "from torchvision.transforms import v2 as T\n",
    "import pandas as pd\n",
    "from matplotlib import pyplot as plt"
   ]
  },
  {
   "cell_type": "code",
   "execution_count": 2,
   "metadata": {},
   "outputs": [],
   "source": [
    "#Global vars\n",
    "batch_size = 128\n",
    "num_classes = 26\n",
    "epochs = 10\n",
    "device = torch.device(\"cuda\" if torch.cuda.is_available() else \"cpu\")\n",
    "\n",
    "dir = \"../ncnn_out\"\n",
    "if not os.path.exists(dir):\n",
    "        os.makedirs(dir)"
   ]
  },
  {
   "cell_type": "code",
   "execution_count": 17,
   "metadata": {},
   "outputs": [],
   "source": [
    "class CNN(nn.Module):\n",
    "    def __init__(self, in_channels=1, out_features=num_classes):\n",
    "        super(CNN, self).__init__()\n",
    "        self.criterion = nn.CrossEntropyLoss()\n",
    "\n",
    "        self.conv1 = nn.Sequential(\n",
    "            nn.Conv2d(in_channels, 16, kernel_size=3, stride=1, padding=1),\n",
    "            nn.BatchNorm2d(16),\n",
    "            nn.LeakyReLU(inplace=True)\n",
    "        )\n",
    "\n",
    "        self.conv2 = nn.Sequential(\n",
    "            nn.Conv2d(16, 32, kernel_size=3, stride=1, padding=1),\n",
    "            nn.BatchNorm2d(32),\n",
    "            nn.LeakyReLU(inplace=True),\n",
    "            nn.MaxPool2d(2),\n",
    "        )\n",
    "\n",
    "        self.conv3 = nn.Sequential(\n",
    "            nn.Conv2d(32, 64, kernel_size=3, stride=1, padding=1),\n",
    "            nn.BatchNorm2d(64),\n",
    "            nn.LeakyReLU(inplace=True),\n",
    "            nn.MaxPool2d(2),\n",
    "        )\n",
    "\n",
    "        self.fc = nn.Sequential(\n",
    "            nn.Flatten(),\n",
    "            nn.Linear(64 * 7 * 7, out_features)\n",
    "        )\n",
    "\n",
    "    def forward(self, img):\n",
    "        img = self.conv1(img)\n",
    "        img = self.conv2(img)\n",
    "        img = self.conv3(img)\n",
    "        img = self.fc(img)\n",
    "        return img\n",
    "\n",
    "    def loss(self, x, label):\n",
    "        loss = self.criterion(x, label)\n",
    "        return loss\n",
    "    \n",
    "\n",
    "class GestureDataset(Dataset):\n",
    "    def __init__(self, csv_file):\n",
    "        self.data = pd.read_csv(csv_file)\n",
    "        self.classes = self.data['label']\n",
    "\n",
    "        self.img = self.data.drop('label', axis=1)\n",
    "        self.img = self.img / 255.0\n",
    "        self.img = self.img.values.reshape(-1, 28, 28, 1)\n",
    "\n",
    "        self.transform = T.Compose([T.ToPILImage(), T.RandomRotation(10),\n",
    "                                    T.ColorJitter(brightness=(0.5, 1.5), contrast=(0.5, 1.5), saturation=(0.5, 1.5)),\n",
    "                                    T.RandomResizedCrop(28, scale=(1.0, 2)), T.ToImage(),\n",
    "                                    T.ToDtype(torch.float32, scale=True)])\n",
    "\n",
    "    def __len__(self):\n",
    "        return len(self.img)\n",
    "\n",
    "    def __getitem__(self, index):\n",
    "        label = self.classes[index]\n",
    "        img = self.img[index]\n",
    "        img = self.transform(img)\n",
    "\n",
    "        label = torch.LongTensor([label])\n",
    "        img = img.float()\n",
    "\n",
    "        return img, label\n",
    "\n",
    "def dataset(train_path, test_path, batch_size=128):\n",
    "    train_dataset = GestureDataset(train_path)\n",
    "    test_dataset = GestureDataset(test_path)\n",
    "\n",
    "    train_loader = torch.utils.data.DataLoader(train_dataset, batch_size=batch_size, shuffle=True)\n",
    "    test_loader = torch.utils.data.DataLoader(test_dataset, batch_size=batch_size, shuffle=True)\n",
    "\n",
    "    return train_loader, test_loader\n",
    "\n",
    "train_loader, test_loader = dataset('../mnist-sign-language/mnist_sign_language_train.csv', \n",
    "                                                     '../mnist-sign-language/mnist_sign_language_test.csv', \n",
    "                                                    128)"
   ]
  },
  {
   "cell_type": "code",
   "execution_count": 58,
   "metadata": {},
   "outputs": [
    {
     "name": "stdout",
     "output_type": "stream",
     "text": [
      "tensor([[149, 149, 150, 150, 150, 151, 151, 150, 151, 152, 152, 152, 152, 152,\n",
      "         153, 153, 151, 152, 152, 153, 152, 152, 151, 151, 150, 150, 150, 149],\n",
      "        [150, 150, 150, 152, 152, 151, 152, 152, 152, 152, 152, 153, 154, 153,\n",
      "         154, 154, 153, 154, 153, 154, 153, 153, 152, 152, 152, 151, 150, 151],\n",
      "        [150, 151, 151, 152, 152, 152, 153, 153, 152, 152, 152, 153, 154, 154,\n",
      "         155, 155, 154, 154, 155, 155, 155, 155, 154, 153, 153, 151, 151, 152],\n",
      "        [150, 151, 151, 152, 152, 152, 154, 154, 154, 154, 154, 153, 154, 155,\n",
      "         156, 157, 157, 156, 155, 156, 155, 154, 154, 155, 152, 154, 153, 153],\n",
      "        [151, 152, 152, 152, 154, 154, 154, 154, 154, 155, 157, 156, 156, 156,\n",
      "         154, 150, 146, 147, 146, 147, 143, 137, 126, 126, 142, 139, 152, 154],\n",
      "        [152, 153, 153, 154, 154, 155, 154, 155, 155, 154, 153, 150, 144, 143,\n",
      "         145, 139, 142, 144, 157, 157, 147, 139, 128, 119, 130, 113, 147, 156],\n",
      "        [151, 153, 153, 155, 155, 156, 155, 152, 145, 139, 141, 141, 141, 153,\n",
      "         153, 143, 135, 137, 139, 133, 121, 107, 101, 104, 110, 127, 157, 156],\n",
      "        [151, 152, 153, 155, 155, 154, 151, 146, 139, 131, 130, 134, 137, 132,\n",
      "         125, 111, 101,  94,  95, 105, 113, 122, 133, 145, 153, 157, 156, 156],\n",
      "        [152, 152, 154, 152, 151, 150, 149, 149, 139, 122, 104,  98,  92,  82,\n",
      "          81,  81,  85, 114, 145, 157, 160, 162, 161, 159, 157, 156, 156, 156],\n",
      "        [151, 151, 150, 146, 145, 147, 148, 147, 145, 132,  97,  71,  62,  66,\n",
      "          88, 116, 145, 162, 160, 159, 157, 155, 156, 157, 157, 156, 155, 155],\n",
      "        [151, 145, 144, 145, 147, 145, 147, 150, 150, 124,  92,  68,  63,  67,\n",
      "          86, 159, 163, 155, 158, 157, 156, 156, 157, 156, 156, 156, 155, 154],\n",
      "        [143, 144, 145, 145, 143, 147, 152, 152, 128,  90,  79,  68,  64,  70,\n",
      "          67,  84, 147, 164, 157, 158, 157, 157, 157, 156, 157, 156, 156, 155],\n",
      "        [145, 146, 143, 145, 145, 150, 149, 149, 139, 118,  85,  62,  62,  75,\n",
      "          73,  62,  67, 140, 164, 157, 158, 158, 158, 158, 157, 157, 156, 156],\n",
      "        [150, 147, 144, 147, 149, 148, 149, 158, 158, 136,  94,  63,  58,  69,\n",
      "          85,  82,  67,  70, 156, 160, 159, 160, 159, 158, 157, 156, 156, 156],\n",
      "        [147, 148, 147, 145, 148, 152, 151, 160, 153, 119,  86,  66,  64,  63,\n",
      "          69,  75,  78,  57, 130, 165, 158, 159, 158, 159, 158, 157, 157, 157],\n",
      "        [149, 148, 146, 145, 147, 149, 146, 151, 144, 110,  78,  65,  66,  66,\n",
      "          58,  59,  64,  79, 150, 165, 162, 162, 162, 162, 161, 161, 158, 156],\n",
      "        [151, 146, 143, 141, 138, 140, 142, 146, 144, 121,  84,  56,  62,  70,\n",
      "          71,  68,  57, 117, 144, 144, 147, 149, 152, 150, 146, 146, 154, 160],\n",
      "        [147, 144, 143, 142, 140, 142, 146, 151, 154, 131,  85,  59,  51,  60,\n",
      "          85,  69,  64,  76,  75,  79,  81,  79,  76,  83, 112, 141, 163, 163],\n",
      "        [144, 148, 147, 145, 145, 148, 150, 155, 151, 119,  74,  62,  63,  55,\n",
      "          62,  72,  73,  77,  74,  73,  68,  88, 113, 138, 162, 162, 168, 168],\n",
      "        [146, 146, 142, 141, 141, 138, 134, 142, 124,  96,  75,  67,  65,  63,\n",
      "          62,  78,  87,  76,  84,  96, 126, 162, 172, 155, 144, 149, 151, 161],\n",
      "        [142, 136, 132, 134, 127, 119, 118, 119, 103,  87,  77,  73,  70,  62,\n",
      "          64,  72,  93, 134, 155, 160, 166, 156, 150, 151, 143, 136, 145, 149],\n",
      "        [130, 132, 127, 120, 114, 110, 109, 105,  91,  77,  74,  75,  74,  65,\n",
      "          73, 113, 166, 177, 170, 161, 152, 141, 134, 136, 140, 133, 127, 130],\n",
      "        [113, 116, 115, 106, 101,  95,  86,  84,  85,  77,  78,  74,  76, 103,\n",
      "         152, 179, 170, 157, 155, 151, 140, 129, 126, 126, 133, 130, 122, 125],\n",
      "        [ 81,  86,  85,  83,  76,  72,  73,  76,  77,  79,  71, 101, 151, 178,\n",
      "         177, 170, 161, 152, 147, 151, 133, 115, 121, 121, 124, 126, 122, 122],\n",
      "        [ 61,  61,  67,  69,  70,  75,  78,  78,  81,  68, 113, 165, 174, 169,\n",
      "         162, 157, 149, 148, 148, 148, 126, 100, 113, 117, 113, 122, 118, 115],\n",
      "        [ 69,  69,  77,  78,  75,  76,  78,  79,  67, 120, 173, 157, 159, 148,\n",
      "         155, 150, 138, 143, 148, 149, 123,  91, 101, 111, 111, 116, 113, 118],\n",
      "        [ 74,  75,  76,  75,  75,  76,  75,  68, 124, 172, 152, 146, 146, 146,\n",
      "         152, 142, 131, 134, 144, 147, 125,  87,  87, 103, 107, 110, 116, 113],\n",
      "        [ 75,  74,  74,  74,  76,  74,  82, 134, 168, 155, 146, 137, 145, 146,\n",
      "         149, 135, 124, 125, 138, 148, 127,  89,  82,  96, 106, 112, 120, 107]])\n"
     ]
    },
    {
     "data": {
      "image/png": "[encoded data removed]",
      "text/plain": [
       "<Figure size 640x480 with 1 Axes>"
      ]
     },
     "metadata": {},
     "output_type": "display_data"
    }
   ],
   "source": [
    "# img, label = next(iter(test_loader))\n",
    "# img = torch.reshape(img[0],(28,28))\n",
    "image = pd.read_csv(\"../mnist-sign-language/mnist_sign_language_test.csv\")\n",
    "img = torch.reshape(torch.from_numpy(image.head(1).values[0][1:]),(28,28))\n",
    "\n",
    "plt.imshow(img)\n",
    "print(img)"
   ]
  },
  {
   "cell_type": "code",
   "execution_count": 9,
   "metadata": {},
   "outputs": [
    {
     "name": "stderr",
     "output_type": "stream",
     "text": [
      "/var/folders/n1/xzlv_l050l51pv993nmt4rpm0000gn/T/ipykernel_28543/2017182477.py:8: FutureWarning: 'torch.onnx._export' is deprecated in version 1.12.0 and will be removed in 2.0. Please use `torch.onnx.export` instead.\n",
      "  torch_out = torch.onnx._export(model, torch.rand(128, 1, 28, 28), dir+\"/resnet18.onnx\", export_params=True) # Export the model\n"
     ]
    },
    {
     "name": "stdout",
     "output_type": "stream",
     "text": [
      "Simplifying\u001b[33m...\u001b[0m\n",
      "Finish! Here is the difference:\n",
      "┏━━━━━━━━━━━━┳━━━━━━━━━━━━━━━━┳━━━━━━━━━━━━━━━━━━┓\n",
      "┃\u001b[1m \u001b[0m\u001b[1m          \u001b[0m\u001b[1m \u001b[0m┃\u001b[1m \u001b[0m\u001b[1mOriginal Model\u001b[0m\u001b[1m \u001b[0m┃\u001b[1m \u001b[0m\u001b[1mSimplified Model\u001b[0m\u001b[1m \u001b[0m┃\n",
      "┡━━━━━━━━━━━━╇━━━━━━━━━━━━━━━━╇━━━━━━━━━━━━━━━━━━┩\n",
      "│ Constant   │ 8              │ 8                │\n",
      "│ Conv       │ 3              │ 3                │\n",
      "│ Flatten    │ 1              │ 1                │\n",
      "│ Gemm       │ 1              │ 1                │\n",
      "│ LeakyRelu  │ 3              │ 3                │\n",
      "│ MaxPool    │ 2              │ 2                │\n",
      "│ Model Size │ 411.5KiB       │ 412.0KiB         │\n",
      "└────────────┴────────────────┴──────────────────┘\n"
     ]
    }
   ],
   "source": [
    "#Converting to NCNN type\n",
    "#Source: https://github.com/Tencent/ncnn/wiki/use-ncnn-with-pytorch-or-onnx\n",
    "weights = torch.load(\"../weights/mnist-sign-language/model.pth\")\n",
    "model = CNN()\n",
    "model.load_state_dict(weights)\n",
    "model.eval()\n",
    "\n",
    "torch_out = torch.onnx._export(model, torch.rand(128, 1, 28, 28), dir+\"/resnet18.onnx\", export_params=True) # Export the model\n",
    "!python3 -m onnxsim {dir+\"/resnet18.onnx\"} {dir+\"/resnet18-sim.onnx\"}\n",
    "!onnx2ncnn {dir+\"/resnet18-sim.onnx\"} {dir+\"/resnet18.param\"} {dir+\"/resnet18.bin\"}"
   ]
  },
  {
   "cell_type": "code",
   "execution_count": 10,
   "metadata": {},
   "outputs": [
    {
     "ename": "TypeError",
     "evalue": "from_pixels(): incompatible function arguments. The following argument types are supported:\n    1. (array: buffer, type: int, w: int, h: int, allocator: ncnn.ncnn.Allocator = None) -> ncnn.ncnn.Mat\n    2. (array: buffer, type: int, w: int, h: int, stride: int, allocator: ncnn.ncnn.Allocator = None) -> ncnn.ncnn.Mat\n\nInvoked with: tensor([[[0.0000, 0.0000, 0.0000, 0.0000, 0.0000, 0.0000, 0.0000, 0.0000,\n          0.0000, 0.0000, 1.0000, 1.0000, 1.0000, 1.0000, 1.0000, 1.0000,\n          1.0000, 1.0000, 1.0000, 1.0000, 1.0000, 1.0000, 1.0000, 1.0000,\n          1.0000, 1.0000, 0.0000, 0.0000],\n         [0.0000, 0.0000, 0.0000, 0.0000, 0.9569, 0.9647, 0.9843, 1.0000,\n          1.0000, 1.0000, 1.0000, 1.0000, 1.0000, 1.0000, 1.0000, 1.0000,\n          1.0000, 1.0000, 1.0000, 1.0000, 1.0000, 1.0000, 1.0000, 1.0000,\n          1.0000, 1.0000, 0.0000, 0.0000],\n         [0.8196, 0.8667, 0.9098, 0.9333, 0.9608, 0.9725, 0.9882, 1.0000,\n          1.0000, 1.0000, 1.0000, 1.0000, 1.0000, 1.0000, 1.0000, 1.0000,\n          1.0000, 1.0000, 1.0000, 1.0000, 1.0000, 1.0000, 1.0000, 1.0000,\n          1.0000, 1.0000, 0.0000, 0.0000],\n         [0.8392, 0.8784, 0.9137, 0.9451, 0.9725, 0.9843, 1.0000, 1.0000,\n          1.0000, 1.0000, 1.0000, 1.0000, 1.0000, 1.0000, 1.0000, 1.0000,\n          0.7843, 0.9725, 1.0000, 1.0000, 1.0000, 1.0000, 1.0000, 1.0000,\n          1.0000, 1.0000, 0.0000, 0.0000],\n         [0.8510, 0.8902, 0.9333, 0.9569, 0.9882, 1.0000, 1.0000, 1.0000,\n          1.0000, 1.0000, 1.0000, 1.0000, 1.0000, 1.0000, 1.0000, 1.0000,\n          0.6706, 0.5059, 0.5059, 0.7569, 0.7843, 1.0000, 1.0000, 1.0000,\n          1.0000, 1.0000, 1.0000, 0.0000],\n         [0.8667, 0.9020, 0.9490, 0.9647, 0.9961, 1.0000, 1.0000, 1.0000,\n          1.0000, 1.0000, 1.0000, 1.0000, 1.0000, 1.0000, 1.0000, 1.0000,\n          1.0000, 0.6745, 0.4706, 0.7961, 0.7098, 0.5882, 1.0000, 1.0000,\n          1.0000, 1.0000, 1.0000, 0.0000],\n         [0.8431, 0.8745, 0.9137, 0.9490, 0.9882, 1.0000, 1.0000, 1.0000,\n          1.0000, 1.0000, 1.0000, 1.0000, 0.9451, 0.8314, 0.9020, 1.0000,\n          1.0000, 0.8392, 0.4980, 0.8431, 0.6706, 0.5529, 1.0000, 1.0000,\n          1.0000, 1.0000, 1.0000, 0.0000],\n         [0.8549, 0.8902, 0.9255, 0.9647, 1.0000, 1.0000, 1.0000, 1.0000,\n          1.0000, 1.0000, 1.0000, 1.0000, 1.0000, 0.8902, 0.6471, 0.9608,\n          1.0000, 0.8510, 0.5098, 0.8902, 0.7490, 0.6392, 1.0000, 1.0000,\n          1.0000, 1.0000, 1.0000, 0.0000],\n         [0.8667, 0.9020, 0.9333, 0.9725, 1.0000, 1.0000, 1.0000, 1.0000,\n          1.0000, 1.0000, 0.8196, 1.0000, 1.0000, 1.0000, 0.6745, 0.5451,\n          1.0000, 0.7216, 0.4588, 1.0000, 0.7843, 0.8314, 1.0000, 1.0000,\n          1.0000, 1.0000, 1.0000, 0.0000],\n         [0.8667, 0.9098, 0.9451, 0.9843, 1.0000, 1.0000, 1.0000, 1.0000,\n          1.0000, 0.8902, 0.8196, 0.7843, 1.0000, 1.0000, 0.7569, 0.3647,\n          0.6235, 0.3961, 0.4353, 0.8745, 0.6745, 0.9608, 1.0000, 1.0000,\n          1.0000, 1.0000, 1.0000, 0.0000],\n         [0.8745, 0.9216, 0.9569, 0.9882, 1.0000, 1.0000, 1.0000, 1.0000,\n          1.0000, 0.9765, 0.7176, 0.4588, 1.0000, 1.0000, 0.7216, 0.3608,\n          0.2549, 0.4706, 0.6980, 0.6980, 0.7961, 0.6706, 0.6706, 0.9765,\n          1.0000, 1.0000, 1.0000, 1.0000],\n         [0.8863, 0.9216, 0.9608, 0.9961, 1.0000, 1.0000, 1.0000, 1.0000,\n          1.0000, 1.0000, 1.0000, 0.8627, 0.4353, 0.8902, 0.9961, 0.6706,\n          0.3490, 0.4588, 0.8431, 0.9020, 0.7608, 0.6157, 0.6000, 0.6745,\n          1.0000, 1.0000, 1.0000, 1.0000],\n         [0.8745, 0.8980, 0.9333, 0.9765, 1.0000, 1.0000, 1.0000, 1.0000,\n          1.0000, 1.0000, 1.0000, 0.7451, 0.4431, 0.6980, 0.9647, 0.7804,\n          0.3529, 0.8863, 1.0000, 0.9569, 0.7333, 0.5529, 0.6118, 0.6471,\n          1.0000, 1.0000, 1.0000, 1.0000],\n         [0.8784, 0.9020, 0.9569, 0.9882, 1.0000, 1.0000, 1.0000, 1.0000,\n          1.0000, 1.0000, 1.0000, 0.6353, 0.3608, 0.5059, 1.0000, 0.8510,\n          0.4235, 1.0000, 1.0000, 0.9216, 0.7176, 0.5647, 0.5333, 0.9255,\n          1.0000, 1.0000, 1.0000, 1.0000],\n         [0.8902, 0.9137, 0.9725, 1.0000, 1.0000, 1.0000, 1.0000, 1.0000,\n          0.8902, 0.8510, 0.9451, 0.6235, 0.2902, 0.3059, 0.9882, 0.8196,\n          0.7216, 1.0000, 1.0000, 0.8078, 0.6824, 0.5294, 0.4431, 1.0000,\n          1.0000, 1.0000, 1.0000, 1.0000],\n         [0.9137, 0.9451, 0.9843, 1.0000, 1.0000, 1.0000, 1.0000, 1.0000,\n          0.9451, 0.7333, 0.8196, 0.6000, 0.3176, 0.5529, 1.0000, 1.0000,\n          1.0000, 1.0000, 0.9216, 0.7490, 0.6235, 0.4863, 0.4980, 1.0000,\n          1.0000, 1.0000, 1.0000, 1.0000],\n         [0.9216, 0.9569, 1.0000, 1.0000, 1.0000, 1.0000, 1.0000, 1.0000,\n          0.9882, 0.6980, 0.6706, 0.6471, 0.8314, 1.0000, 1.0000, 1.0000,\n          1.0000, 1.0000, 0.8510, 0.7216, 0.5569, 0.5569, 0.4235, 0.9882,\n          1.0000, 1.0000, 1.0000, 1.0000],\n         [0.9255, 0.9725, 1.0000, 1.0000, 1.0000, 1.0000, 1.0000, 1.0000,\n          1.0000, 1.0000, 0.7843, 0.9137, 0.8980, 1.0000, 1.0000, 1.0000,\n          1.0000, 1.0000, 0.9451, 0.7922, 0.6588, 0.5059, 0.3843, 1.0000,\n          1.0000, 1.0000, 1.0000, 1.0000],\n         [0.0000, 0.9333, 0.9843, 1.0000, 1.0000, 1.0000, 1.0000, 1.0000,\n          1.0000, 1.0000, 0.9098, 1.0000, 0.8980, 1.0000, 1.0000, 1.0000,\n          1.0000, 0.9882, 0.8431, 0.7176, 0.5922, 0.4549, 0.5529, 1.0000,\n          1.0000, 1.0000, 1.0000, 1.0000],\n         [0.0000, 0.9490, 1.0000, 1.0000, 1.0000, 1.0000, 1.0000, 1.0000,\n          1.0000, 1.0000, 1.0000, 1.0000, 0.9490, 1.0000, 1.0000, 1.0000,\n          1.0000, 0.9882, 0.7608, 0.6706, 0.5451, 0.4980, 1.0000, 1.0000,\n          1.0000, 1.0000, 1.0000, 1.0000],\n         [0.0000, 0.9725, 1.0000, 1.0000, 1.0000, 1.0000, 1.0000, 1.0000,\n          1.0000, 1.0000, 1.0000, 1.0000, 0.9765, 1.0000, 1.0000, 1.0000,\n          1.0000, 0.8902, 0.6863, 0.6235, 0.4941, 0.9882, 1.0000, 1.0000,\n          1.0000, 1.0000, 1.0000, 1.0000],\n         [0.0000, 0.9961, 1.0000, 1.0000, 1.0000, 1.0000, 1.0000, 1.0000,\n          1.0000, 1.0000, 1.0000, 1.0000, 1.0000, 1.0000, 1.0000, 1.0000,\n          0.9569, 0.8039, 0.6392, 0.5333, 0.7843, 1.0000, 1.0000, 1.0000,\n          1.0000, 1.0000, 1.0000, 1.0000],\n         [0.0000, 1.0000, 1.0000, 1.0000, 1.0000, 1.0000, 1.0000, 1.0000,\n          1.0000, 1.0000, 1.0000, 1.0000, 1.0000, 1.0000, 1.0000, 1.0000,\n          0.8784, 0.6980, 0.5922, 0.5765, 1.0000, 1.0000, 1.0000, 1.0000,\n          1.0000, 1.0000, 1.0000, 0.8980],\n         [0.0000, 1.0000, 1.0000, 1.0000, 1.0000, 1.0000, 1.0000, 1.0000,\n          1.0000, 1.0000, 1.0000, 1.0000, 1.0000, 1.0000, 0.9725, 1.0000,\n          0.9490, 0.8078, 0.6235, 0.5176, 0.9216, 1.0000, 1.0000, 1.0000,\n          1.0000, 1.0000, 0.8510, 0.3725],\n         [0.0000, 0.0000, 1.0000, 1.0000, 1.0000, 1.0000, 1.0000, 1.0000,\n          1.0000, 1.0000, 1.0000, 1.0000, 1.0000, 1.0000, 0.9765, 0.9725,\n          0.8863, 0.7804, 0.6353, 0.4784, 1.0000, 1.0000, 1.0000, 1.0000,\n          1.0000, 0.6275, 0.3294, 0.2902],\n         [0.0000, 0.0000, 1.0000, 1.0000, 1.0000, 1.0000, 1.0000, 1.0000,\n          1.0000, 1.0000, 1.0000, 1.0000, 1.0000, 1.0000, 0.9961, 0.9098,\n          0.8510, 0.7725, 0.6353, 0.4863, 1.0000, 1.0000, 1.0000, 1.0000,\n          0.4824, 0.2902, 0.1725, 0.2431],\n         [0.0000, 0.0000, 1.0000, 1.0000, 1.0000, 1.0000, 1.0000, 1.0000,\n          1.0000, 1.0000, 1.0000, 1.0000, 1.0000, 1.0000, 1.0000, 0.8863,\n          0.8510, 0.7608, 0.6118, 0.4941, 1.0000, 1.0000, 1.0000, 1.0000,\n          0.0000, 0.0000, 0.0000, 0.0000],\n         [0.0000, 0.0000, 1.0000, 1.0000, 1.0000, 1.0000, 1.0000, 1.0000,\n          1.0000, 1.0000, 1.0000, 1.0000, 1.0000, 1.0000, 1.0000, 0.8902,\n          0.8392, 0.7608, 0.0000, 0.0000, 0.0000, 0.0000, 0.0000, 0.0000,\n          0.0000, 0.0000, 0.0000, 0.0000]]]), 1, 28, 28",
     "output_type": "error",
     "traceback": [
      "\u001b[0;31m---------------------------------------------------------------------------\u001b[0m",
      "\u001b[0;31mTypeError\u001b[0m                                 Traceback (most recent call last)",
      "Cell \u001b[0;32mIn[10], line 8\u001b[0m\n\u001b[1;32m      5\u001b[0m imgs, vals \u001b[38;5;241m=\u001b[39m \u001b[38;5;28mnext\u001b[39m(\u001b[38;5;28miter\u001b[39m(test_loader))\n\u001b[1;32m      6\u001b[0m img \u001b[38;5;241m=\u001b[39m imgs[\u001b[38;5;241m0\u001b[39m]\n\u001b[0;32m----> 8\u001b[0m \u001b[43mncnn\u001b[49m\u001b[38;5;241;43m.\u001b[39;49m\u001b[43mMat\u001b[49m\u001b[38;5;241;43m.\u001b[39;49m\u001b[43mfrom_pixels\u001b[49m\u001b[43m(\u001b[49m\u001b[43mimg\u001b[49m\u001b[43m,\u001b[49m\u001b[43m \u001b[49m\u001b[38;5;241;43m1\u001b[39;49m\u001b[43m,\u001b[49m\u001b[38;5;241;43m28\u001b[39;49m\u001b[43m,\u001b[49m\u001b[38;5;241;43m28\u001b[39;49m\u001b[43m)\u001b[49m\n",
      "\u001b[0;31mTypeError\u001b[0m: from_pixels(): incompatible function arguments. The following argument types are supported:\n    1. (array: buffer, type: int, w: int, h: int, allocator: ncnn.ncnn.Allocator = None) -> ncnn.ncnn.Mat\n    2. (array: buffer, type: int, w: int, h: int, stride: int, allocator: ncnn.ncnn.Allocator = None) -> ncnn.ncnn.Mat\n\nInvoked with: tensor([[[0.0000, 0.0000, 0.0000, 0.0000, 0.0000, 0.0000, 0.0000, 0.0000,\n          0.0000, 0.0000, 1.0000, 1.0000, 1.0000, 1.0000, 1.0000, 1.0000,\n          1.0000, 1.0000, 1.0000, 1.0000, 1.0000, 1.0000, 1.0000, 1.0000,\n          1.0000, 1.0000, 0.0000, 0.0000],\n         [0.0000, 0.0000, 0.0000, 0.0000, 0.9569, 0.9647, 0.9843, 1.0000,\n          1.0000, 1.0000, 1.0000, 1.0000, 1.0000, 1.0000, 1.0000, 1.0000,\n          1.0000, 1.0000, 1.0000, 1.0000, 1.0000, 1.0000, 1.0000, 1.0000,\n          1.0000, 1.0000, 0.0000, 0.0000],\n         [0.8196, 0.8667, 0.9098, 0.9333, 0.9608, 0.9725, 0.9882, 1.0000,\n          1.0000, 1.0000, 1.0000, 1.0000, 1.0000, 1.0000, 1.0000, 1.0000,\n          1.0000, 1.0000, 1.0000, 1.0000, 1.0000, 1.0000, 1.0000, 1.0000,\n          1.0000, 1.0000, 0.0000, 0.0000],\n         [0.8392, 0.8784, 0.9137, 0.9451, 0.9725, 0.9843, 1.0000, 1.0000,\n          1.0000, 1.0000, 1.0000, 1.0000, 1.0000, 1.0000, 1.0000, 1.0000,\n          0.7843, 0.9725, 1.0000, 1.0000, 1.0000, 1.0000, 1.0000, 1.0000,\n          1.0000, 1.0000, 0.0000, 0.0000],\n         [0.8510, 0.8902, 0.9333, 0.9569, 0.9882, 1.0000, 1.0000, 1.0000,\n          1.0000, 1.0000, 1.0000, 1.0000, 1.0000, 1.0000, 1.0000, 1.0000,\n          0.6706, 0.5059, 0.5059, 0.7569, 0.7843, 1.0000, 1.0000, 1.0000,\n          1.0000, 1.0000, 1.0000, 0.0000],\n         [0.8667, 0.9020, 0.9490, 0.9647, 0.9961, 1.0000, 1.0000, 1.0000,\n          1.0000, 1.0000, 1.0000, 1.0000, 1.0000, 1.0000, 1.0000, 1.0000,\n          1.0000, 0.6745, 0.4706, 0.7961, 0.7098, 0.5882, 1.0000, 1.0000,\n          1.0000, 1.0000, 1.0000, 0.0000],\n         [0.8431, 0.8745, 0.9137, 0.9490, 0.9882, 1.0000, 1.0000, 1.0000,\n          1.0000, 1.0000, 1.0000, 1.0000, 0.9451, 0.8314, 0.9020, 1.0000,\n          1.0000, 0.8392, 0.4980, 0.8431, 0.6706, 0.5529, 1.0000, 1.0000,\n          1.0000, 1.0000, 1.0000, 0.0000],\n         [0.8549, 0.8902, 0.9255, 0.9647, 1.0000, 1.0000, 1.0000, 1.0000,\n          1.0000, 1.0000, 1.0000, 1.0000, 1.0000, 0.8902, 0.6471, 0.9608,\n          1.0000, 0.8510, 0.5098, 0.8902, 0.7490, 0.6392, 1.0000, 1.0000,\n          1.0000, 1.0000, 1.0000, 0.0000],\n         [0.8667, 0.9020, 0.9333, 0.9725, 1.0000, 1.0000, 1.0000, 1.0000,\n          1.0000, 1.0000, 0.8196, 1.0000, 1.0000, 1.0000, 0.6745, 0.5451,\n          1.0000, 0.7216, 0.4588, 1.0000, 0.7843, 0.8314, 1.0000, 1.0000,\n          1.0000, 1.0000, 1.0000, 0.0000],\n         [0.8667, 0.9098, 0.9451, 0.9843, 1.0000, 1.0000, 1.0000, 1.0000,\n          1.0000, 0.8902, 0.8196, 0.7843, 1.0000, 1.0000, 0.7569, 0.3647,\n          0.6235, 0.3961, 0.4353, 0.8745, 0.6745, 0.9608, 1.0000, 1.0000,\n          1.0000, 1.0000, 1.0000, 0.0000],\n         [0.8745, 0.9216, 0.9569, 0.9882, 1.0000, 1.0000, 1.0000, 1.0000,\n          1.0000, 0.9765, 0.7176, 0.4588, 1.0000, 1.0000, 0.7216, 0.3608,\n          0.2549, 0.4706, 0.6980, 0.6980, 0.7961, 0.6706, 0.6706, 0.9765,\n          1.0000, 1.0000, 1.0000, 1.0000],\n         [0.8863, 0.9216, 0.9608, 0.9961, 1.0000, 1.0000, 1.0000, 1.0000,\n          1.0000, 1.0000, 1.0000, 0.8627, 0.4353, 0.8902, 0.9961, 0.6706,\n          0.3490, 0.4588, 0.8431, 0.9020, 0.7608, 0.6157, 0.6000, 0.6745,\n          1.0000, 1.0000, 1.0000, 1.0000],\n         [0.8745, 0.8980, 0.9333, 0.9765, 1.0000, 1.0000, 1.0000, 1.0000,\n          1.0000, 1.0000, 1.0000, 0.7451, 0.4431, 0.6980, 0.9647, 0.7804,\n          0.3529, 0.8863, 1.0000, 0.9569, 0.7333, 0.5529, 0.6118, 0.6471,\n          1.0000, 1.0000, 1.0000, 1.0000],\n         [0.8784, 0.9020, 0.9569, 0.9882, 1.0000, 1.0000, 1.0000, 1.0000,\n          1.0000, 1.0000, 1.0000, 0.6353, 0.3608, 0.5059, 1.0000, 0.8510,\n          0.4235, 1.0000, 1.0000, 0.9216, 0.7176, 0.5647, 0.5333, 0.9255,\n          1.0000, 1.0000, 1.0000, 1.0000],\n         [0.8902, 0.9137, 0.9725, 1.0000, 1.0000, 1.0000, 1.0000, 1.0000,\n          0.8902, 0.8510, 0.9451, 0.6235, 0.2902, 0.3059, 0.9882, 0.8196,\n          0.7216, 1.0000, 1.0000, 0.8078, 0.6824, 0.5294, 0.4431, 1.0000,\n          1.0000, 1.0000, 1.0000, 1.0000],\n         [0.9137, 0.9451, 0.9843, 1.0000, 1.0000, 1.0000, 1.0000, 1.0000,\n          0.9451, 0.7333, 0.8196, 0.6000, 0.3176, 0.5529, 1.0000, 1.0000,\n          1.0000, 1.0000, 0.9216, 0.7490, 0.6235, 0.4863, 0.4980, 1.0000,\n          1.0000, 1.0000, 1.0000, 1.0000],\n         [0.9216, 0.9569, 1.0000, 1.0000, 1.0000, 1.0000, 1.0000, 1.0000,\n          0.9882, 0.6980, 0.6706, 0.6471, 0.8314, 1.0000, 1.0000, 1.0000,\n          1.0000, 1.0000, 0.8510, 0.7216, 0.5569, 0.5569, 0.4235, 0.9882,\n          1.0000, 1.0000, 1.0000, 1.0000],\n         [0.9255, 0.9725, 1.0000, 1.0000, 1.0000, 1.0000, 1.0000, 1.0000,\n          1.0000, 1.0000, 0.7843, 0.9137, 0.8980, 1.0000, 1.0000, 1.0000,\n          1.0000, 1.0000, 0.9451, 0.7922, 0.6588, 0.5059, 0.3843, 1.0000,\n          1.0000, 1.0000, 1.0000, 1.0000],\n         [0.0000, 0.9333, 0.9843, 1.0000, 1.0000, 1.0000, 1.0000, 1.0000,\n          1.0000, 1.0000, 0.9098, 1.0000, 0.8980, 1.0000, 1.0000, 1.0000,\n          1.0000, 0.9882, 0.8431, 0.7176, 0.5922, 0.4549, 0.5529, 1.0000,\n          1.0000, 1.0000, 1.0000, 1.0000],\n         [0.0000, 0.9490, 1.0000, 1.0000, 1.0000, 1.0000, 1.0000, 1.0000,\n          1.0000, 1.0000, 1.0000, 1.0000, 0.9490, 1.0000, 1.0000, 1.0000,\n          1.0000, 0.9882, 0.7608, 0.6706, 0.5451, 0.4980, 1.0000, 1.0000,\n          1.0000, 1.0000, 1.0000, 1.0000],\n         [0.0000, 0.9725, 1.0000, 1.0000, 1.0000, 1.0000, 1.0000, 1.0000,\n          1.0000, 1.0000, 1.0000, 1.0000, 0.9765, 1.0000, 1.0000, 1.0000,\n          1.0000, 0.8902, 0.6863, 0.6235, 0.4941, 0.9882, 1.0000, 1.0000,\n          1.0000, 1.0000, 1.0000, 1.0000],\n         [0.0000, 0.9961, 1.0000, 1.0000, 1.0000, 1.0000, 1.0000, 1.0000,\n          1.0000, 1.0000, 1.0000, 1.0000, 1.0000, 1.0000, 1.0000, 1.0000,\n          0.9569, 0.8039, 0.6392, 0.5333, 0.7843, 1.0000, 1.0000, 1.0000,\n          1.0000, 1.0000, 1.0000, 1.0000],\n         [0.0000, 1.0000, 1.0000, 1.0000, 1.0000, 1.0000, 1.0000, 1.0000,\n          1.0000, 1.0000, 1.0000, 1.0000, 1.0000, 1.0000, 1.0000, 1.0000,\n          0.8784, 0.6980, 0.5922, 0.5765, 1.0000, 1.0000, 1.0000, 1.0000,\n          1.0000, 1.0000, 1.0000, 0.8980],\n         [0.0000, 1.0000, 1.0000, 1.0000, 1.0000, 1.0000, 1.0000, 1.0000,\n          1.0000, 1.0000, 1.0000, 1.0000, 1.0000, 1.0000, 0.9725, 1.0000,\n          0.9490, 0.8078, 0.6235, 0.5176, 0.9216, 1.0000, 1.0000, 1.0000,\n          1.0000, 1.0000, 0.8510, 0.3725],\n         [0.0000, 0.0000, 1.0000, 1.0000, 1.0000, 1.0000, 1.0000, 1.0000,\n          1.0000, 1.0000, 1.0000, 1.0000, 1.0000, 1.0000, 0.9765, 0.9725,\n          0.8863, 0.7804, 0.6353, 0.4784, 1.0000, 1.0000, 1.0000, 1.0000,\n          1.0000, 0.6275, 0.3294, 0.2902],\n         [0.0000, 0.0000, 1.0000, 1.0000, 1.0000, 1.0000, 1.0000, 1.0000,\n          1.0000, 1.0000, 1.0000, 1.0000, 1.0000, 1.0000, 0.9961, 0.9098,\n          0.8510, 0.7725, 0.6353, 0.4863, 1.0000, 1.0000, 1.0000, 1.0000,\n          0.4824, 0.2902, 0.1725, 0.2431],\n         [0.0000, 0.0000, 1.0000, 1.0000, 1.0000, 1.0000, 1.0000, 1.0000,\n          1.0000, 1.0000, 1.0000, 1.0000, 1.0000, 1.0000, 1.0000, 0.8863,\n          0.8510, 0.7608, 0.6118, 0.4941, 1.0000, 1.0000, 1.0000, 1.0000,\n          0.0000, 0.0000, 0.0000, 0.0000],\n         [0.0000, 0.0000, 1.0000, 1.0000, 1.0000, 1.0000, 1.0000, 1.0000,\n          1.0000, 1.0000, 1.0000, 1.0000, 1.0000, 1.0000, 1.0000, 0.8902,\n          0.8392, 0.7608, 0.0000, 0.0000, 0.0000, 0.0000, 0.0000, 0.0000,\n          0.0000, 0.0000, 0.0000, 0.0000]]]), 1, 28, 28"
     ]
    }
   ],
   "source": [
    "ncnn_model = ncnn.Net()\n",
    "ncnn_model.load_param(dir+\"/resnet18.param\")\n",
    "ncnn_model.load_model(dir+\"/resnet18.bin\")\n",
    "\n",
    "imgs, vals = next(iter(test_loader))\n",
    "img = imgs[0]\n",
    "\n",
    "ncnn.Mat.from_pixels(img, 1,28,28)\n"
   ]
  },
  {
   "cell_type": "code",
   "execution_count": null,
   "metadata": {},
   "outputs": [
    {
     "data": {
      "text/plain": [
       "ncnn.ncnn.Mat"
      ]
     },
     "execution_count": 5,
     "metadata": {},
     "output_type": "execute_result"
    }
   ],
   "source": []
  }
 ],
 "metadata": {
  "kernelspec": {
   "display_name": "Python 3",
   "language": "python",
   "name": "python3"
  },
  "language_info": {
   "codemirror_mode": {
    "name": "ipython",
    "version": 3
   },
   "file_extension": ".py",
   "mimetype": "text/x-python",
   "name": "python",
   "nbconvert_exporter": "python",
   "pygments_lexer": "ipython3",
   "version": "3.11.7"
  }
 },
 "nbformat": 4,
 "nbformat_minor": 2
}
