{
 "cells": [
  {
   "cell_type": "code",
   "execution_count": 206,
   "metadata": {},
   "outputs": [],
   "source": [
    "import torch\n",
    "import torch.nn.functional as F\n",
    "import torch.nn as nn\n",
    "\n",
    "import cnn\n",
    "import cnn_quantized as cnnq\n",
    "\n",
    "from torch.utils.data import Dataset\n",
    "from torchsummary import summary\n",
    "import numpy as np\n",
    "import matplotlib.pyplot as plt\n",
    "\n",
    "import utils as ut\n",
    "import pandas as pd\n",
    "import cv2 as cv2\n",
    "import os\n",
    "\n",
    "\n",
    "dirname = os.getcwd()\n",
    "device = torch.device(\"cuda\" if torch.cuda.is_available() else \"cpu\")"
   ]
  },
  {
   "cell_type": "code",
   "execution_count": 207,
   "metadata": {},
   "outputs": [
    {
     "name": "stdout",
     "output_type": "stream",
     "text": [
      "Test Accuracy: 93.74%\n"
     ]
    }
   ],
   "source": [
    "_, test_loader = cnn.dataset()\n",
    "\n",
    "model = cnn.CNN().to(device)\n",
    "quant_model = cnnq.CNN_Quantized(model).to(device)\n",
    "\n",
    "state_dict = torch.load(f\"{dirname}/weights/cnn_quant_weights.pth\")\n",
    "steps = torch.load(f\"{dirname}/weights/cnn_quant_steps.pth\")\n",
    "\n",
    "for key in state_dict.keys():\n",
    "    if \"weight\" in key:\n",
    "        state_dict[key] = state_dict[key] * steps[key]\n",
    "quant_model.load_state_dict(state_dict)\n",
    "original_accuracy = cnn.test(quant_model, test_loader)"
   ]
  },
  {
   "cell_type": "code",
   "execution_count": 208,
   "metadata": {},
   "outputs": [
    {
     "name": "stdout",
     "output_type": "stream",
     "text": [
      "Before pruning\n",
      "Test Accuracy: 93.36%\n",
      "3362624\n",
      "After pruning\n",
      "Test Accuracy: 90.53%\n",
      "tensor(772416, device='cuda:0')\n",
      "Ratio: 22.970632553100586\n"
     ]
    }
   ],
   "source": [
    "print(\"Before pruning\")\n",
    "cnn.test(quant_model, test_loader)\n",
    "original_size = ut.get_model_size(quant_model)\n",
    "print(original_size)\n",
    "sparsity = {\n",
    "    \"conv1.0.weight\": 0.12,\n",
    "    \"conv2.0.weight\": 0.72,\n",
    "    \"conv3.0.weight\": 0.75,\n",
    "    \"fc.1.weight\": 0.77,\n",
    "}\n",
    "\n",
    "print(\"After pruning\")\n",
    "pruned_size, pruned_accuracy = quant_model.magnitude_prune(model, sparsity, test_loader)\n",
    "print(pruned_size)\n",
    "\n",
    "ratio = pruned_size / original_size * 100\n",
    "print(f\"Ratio: {float(ratio)}\")"
   ]
  },
  {
   "cell_type": "code",
   "execution_count": null,
   "metadata": {},
   "outputs": [],
   "source": [
    "sparsity, accuracies = ut.sensitivity_scan(quant_model, test_loader, 0.04, 0.04, 1.0)"
   ]
  },
  {
   "cell_type": "code",
   "execution_count": null,
   "metadata": {},
   "outputs": [],
   "source": [
    "ut.plot_num_parameters_distribution(quant_model)"
   ]
  },
  {
   "cell_type": "code",
   "execution_count": null,
   "metadata": {},
   "outputs": [],
   "source": [
    "ut.plot_sensitivity_scan(quant_model, sparsity, accuracies, original_accuracy)"
   ]
  }
 ],
 "metadata": {
  "kernelspec": {
   "display_name": "Python 3",
   "language": "python",
   "name": "python3"
  },
  "language_info": {
   "codemirror_mode": {
    "name": "ipython",
    "version": 3
   },
   "file_extension": ".py",
   "mimetype": "text/x-python",
   "name": "python",
   "nbconvert_exporter": "python",
   "pygments_lexer": "ipython3",
   "version": "3.10.11"
  }
 },
 "nbformat": 4,
 "nbformat_minor": 2
}
